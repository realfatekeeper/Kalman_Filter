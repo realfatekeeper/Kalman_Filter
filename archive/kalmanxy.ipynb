{
 "cells": [
  {
   "cell_type": "code",
   "execution_count": 1,
   "metadata": {},
   "outputs": [],
   "source": [
    "import sympy\n",
    "from filterpy.kalman import ExtendedKalmanFilter as EKF\n",
    "from numpy import array, sqrt\n",
    "from sympy.abc import alpha, x, y, v, w, R, theta\n",
    "from sympy import symbols, Matrix\n",
    "import numpy as np\n",
    "\n",
    "\n",
    "class RobotEKF(EKF):\n",
    "    def __init__(self, dt, std_ax, std_ay):\n",
    "        dim_x = 4\n",
    "        dim_z = 2\n",
    "        dim_u = 2\n",
    "        EKF.__init__(self, dim_x, dim_z, dim_u)\n",
    "\n",
    "        self.dt = dt\n",
    "        self.std_ax = std_ax\n",
    "        self.std_ay = std_ay\n",
    "        x, v, a, time = symbols(\n",
    "        'x, v, a, dt')\n",
    "\n",
    "        self.fxu = Matrix(\n",
    "            [[x+v*time],\n",
    "            [v+a*time]])\n",
    "        self.F_j = self.fxu.jacobian(Matrix([x, y, vx, vy]))\n",
    "        self.V_j = self.fxu.jacobian(Matrix([ax, ay]))\n",
    "        # save dictionary and it's variables for later use\n",
    "        self.subs = {x: 0, y: 0, vx:0, vy:0, \n",
    "                     ax:0, ay:0, time:dt}\n",
    "        self.x_x, self.x_y, = x, y\n",
    "        self.vx,self.vy, self.ax, self.ay = v, w, ax, ay\n",
    "        self.time = dt\n",
    "\n",
    "\n",
    "    def predict(self, u):\n",
    "        self.subs[self.ax] = u[0]\n",
    "        self.subs[self.ay] = u[1]\n",
    "        F = array(self.F_j.evalf(subs=self.subs)).astype(float)\n",
    "        V = array(self.V_j.evalf(subs=self.subs)).astype(float)\n",
    "        # covariance of motion noise in control space\n",
    "        M = array([[self.std_ax**2, 0],\n",
    "                    [0, self.std_ay**2]])\n",
    "        self.P = np.dot(F, self.P).dot(F.T) + np.dot(V, M).dot(V.T)\n"
   ]
  },
  {
   "cell_type": "code",
   "execution_count": 2,
   "metadata": {},
   "outputs": [],
   "source": [
    "def H_of(x):\n",
    "    \"\"\" compute Jacobian of H matrix where h(x) computes\n",
    "    is the measurement\"\"\"\n",
    "    H = array(\n",
    "    [[1,0,0,0],\n",
    "     [0,1,0,0]])\n",
    "    return H"
   ]
  },
  {
   "cell_type": "code",
   "execution_count": 3,
   "metadata": {},
   "outputs": [],
   "source": [
    "def Hx(x):\n",
    "    \"\"\" takes a state variable and returns the measurement\n",
    "    that would correspond to that state.\n",
    "    \"\"\"\n",
    "    Hx = array([[x[0,0]],\n",
    "                [x[1,0]]])\n",
    "    return Hx"
   ]
  },
  {
   "cell_type": "code",
   "execution_count": 4,
   "metadata": {},
   "outputs": [],
   "source": [
    "def residual(a, b):\n",
    "    \"\"\" compute residual (a-b) between measurements containing\n",
    "    [range, bearing]. Bearing is normalized to [-pi, pi)\"\"\"\n",
    "    y = a - b\n",
    "    return y"
   ]
  },
  {
   "cell_type": "code",
   "execution_count": 5,
   "metadata": {},
   "outputs": [],
   "source": [
    "\"\"\"\n",
    "TODO: Tune this EKF\n",
    "\"\"\"\n",
    "from math import atan2\n",
    "import pandas as pd\n",
    "\n",
    "dt = 0.1\n",
    "\n",
    "def ekf_update(ekf, z):\n",
    "    ekf.update(z, HJacobian=H_of, Hx=Hx,residual = residual)\n",
    "\n",
    "def run_localization(data, std_ax, std_ay,\n",
    "                     std_gx, std_gy):\n",
    "    \"\"\"\n",
    "    Parameters:\n",
    "    data: sensor data in csv in form of a, omega, GPS.x, GPS.y\n",
    "    \"\"\"\n",
    "\n",
    "\n",
    "    ekf = RobotEKF(dt=dt, std_ax=std_ax,std_ay=std_ay)\n",
    "    ekf.x = array([[0, 0, 0, 0]]).T # x, y, v_x, v_y,\n",
    "    ekf.P = np.diag([.1, .1, .1, .1]) # variance of states\n",
    "    ekf.R = np.diag([std_gx**2, std_gy**2]) # variance of measurement    \n",
    "    track = []\n",
    "    history = []\n",
    "    prev_row = None\n",
    "    start = 0\n",
    "    angle_found = False\n",
    "\n",
    "    \"\"\" \n",
    "\n",
    "    ### Find initial angle\n",
    "    for i , row in data.iterrows():\n",
    "        if row[\"GPSx\"] == 0:\n",
    "            first_point = [row[\"GPSy\"],row[\"GPSx\"]]\n",
    "            continue\n",
    "        elif first_point[0] != row[\"GPSy\"] or first_point[0] != row[\"GPSx\"]:\n",
    "             rad = atan2(row[\"GPSy\"]-first_point[0],row[\"GPSx\"]-first_point[1]) \"\"\"\n",
    "\n",
    "\n",
    "    find_first = False\n",
    "    for i , row in data.iterrows():\n",
    "        ### Skip when GPS is not initiate\n",
    "        if row[\"GPSx\"] == 0:\n",
    "            prev_row = row[\"GPSy\"],row[\"GPSx\"]\n",
    "            continue\n",
    "        elif not find_first:\n",
    "            ekf.x = array([[row[\"GPSx\"],row[\"GPSy\"], 0, 0]]).T\n",
    "            find_first = not find_first\n",
    "\n",
    "        u = array([row[\"ax\"],row[\"ay\"]]) # input is ax and ay\n",
    "        z = array([row[\"GPSx\"],row[\"GPSy\"]]) \n",
    "        ekf.predict(u=u)\n",
    "\n",
    "        if i%10 == 0:\n",
    "            track.append([ekf.x[0,0],ekf.x[1,0],row[\"GPSx\"],row[\"GPSy\"]])\n",
    "            history.append([ekf.x[i,0] for i in range(4)])\n",
    "            ekf_update(ekf, z)\n",
    "\n",
    "    track = np.array(track)\n",
    "    history = np.array(history)\n",
    "    return ekf ,track, history"
   ]
  },
  {
   "cell_type": "code",
   "execution_count": 11,
   "metadata": {},
   "outputs": [
    {
     "name": "stdout",
     "output_type": "stream",
     "text": [
      "Final P: [0.67523752 0.67523752 0.01101172 0.01101172]\n"
     ]
    }
   ],
   "source": [
    "data = pd.read_csv('kalman01.csv')\n",
    "ekf, track , history = run_localization(data, std_ax = 0.1, std_ay = 0.1,\n",
    "                     std_gx = 2, std_gy = 2)\n",
    "print('Final P:', ekf.P.diagonal())"
   ]
  },
  {
   "cell_type": "code",
   "execution_count": 12,
   "metadata": {},
   "outputs": [],
   "source": [
    "result = pd.DataFrame(track, columns= ['x','y','GPSx','GPSy'])\n",
    "result.to_csv('result00.csv')"
   ]
  },
  {
   "cell_type": "code",
   "execution_count": 13,
   "metadata": {},
   "outputs": [
    {
     "data": {
      "image/png": "[encoded data removed]",
      "text/plain": [
       "<Figure size 432x288 with 1 Axes>"
      ]
     },
     "metadata": {
      "needs_background": "light"
     },
     "output_type": "display_data"
    }
   ],
   "source": [
    "import matplotlib.pyplot as plt\n",
    "plt.scatter(result['x'],result['y'],s = 0.1,c='r')\n",
    "plt.scatter(result['GPSx'],result['GPSy'],s = 0.1,c='b')\n",
    "plt.axis('equal')\n",
    "plt.show()"
   ]
  },
  {
   "cell_type": "code",
   "execution_count": 14,
   "metadata": {},
   "outputs": [
    {
     "data": {
      "text/plain": [
       "array([[ 3.87592156e+01, -6.13305678e+00,  0.00000000e+00,\n",
       "         0.00000000e+00],\n",
       "       [ 3.87592156e+01, -4.99542519e+00,  0.00000000e+00,\n",
       "         2.18882590e-01],\n",
       "       [ 3.87857926e+01, -2.48478507e+00,  1.32527206e-02,\n",
       "         1.47082378e+00],\n",
       "       ...,\n",
       "       [-2.12564780e+03, -2.12564780e+03, -1.89563997e+02,\n",
       "        -1.79247323e+02],\n",
       "       [-2.11001487e+03, -2.11001487e+03, -1.88175849e+02,\n",
       "        -1.77859176e+02],\n",
       "       [-2.09461853e+03, -2.09461853e+03, -1.86808711e+02,\n",
       "        -1.76492037e+02]])"
      ]
     },
     "execution_count": 14,
     "metadata": {},
     "output_type": "execute_result"
    }
   ],
   "source": [
    "history"
   ]
  },
  {
   "cell_type": "code",
   "execution_count": 15,
   "metadata": {},
   "outputs": [],
   "source": [
    "result = pd.DataFrame(history, columns= ['x','y' ,'vx','vy'])\n",
    "result.to_csv('history00.csv')"
   ]
  }
 ],
 "metadata": {
  "interpreter": {
   "hash": "bcc0fbde6634558883ab601c6f65083ecfc8c62a0fa89384a3c478d027571d1c"
  },
  "kernelspec": {
   "display_name": "Python 3.8.13 ('vfvo')",
   "language": "python",
   "name": "python3"
  },
  "language_info": {
   "codemirror_mode": {
    "name": "ipython",
    "version": 3
   },
   "file_extension": ".py",
   "mimetype": "text/x-python",
   "name": "python",
   "nbconvert_exporter": "python",
   "pygments_lexer": "ipython3",
   "version": "3.8.13"
  },
  "orig_nbformat": 4
 },
 "nbformat": 4,
 "nbformat_minor": 2
}
