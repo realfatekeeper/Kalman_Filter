{
 "cells": [
  {
   "cell_type": "code",
   "execution_count": 5,
   "metadata": {},
   "outputs": [
    {
     "data": {
      "text/latex": [
       "$\\displaystyle \\left[\\begin{matrix}1 & 0 & 0 & t & 0\\\\0 & 1 & 0 & 0 & t\\\\0 & 0 & 1 & 0 & 0\\\\0 & 0 & - a t \\sin{\\left(\\theta \\right)} & 1 & 0\\\\0 & 0 & a t \\cos{\\left(\\theta \\right)} & 0 & 1\\end{matrix}\\right]$"
      ],
      "text/plain": [
       "⎡1  0       0       t  0⎤\n",
       "⎢                       ⎥\n",
       "⎢0  1       0       0  t⎥\n",
       "⎢                       ⎥\n",
       "⎢0  0       1       0  0⎥\n",
       "⎢                       ⎥\n",
       "⎢0  0  -a⋅t⋅sin(θ)  1  0⎥\n",
       "⎢                       ⎥\n",
       "⎣0  0  a⋅t⋅cos(θ)   0  1⎦"
      ]
     },
     "execution_count": 5,
     "metadata": {},
     "output_type": "execute_result"
    }
   ],
   "source": [
    "import sympy\n",
    "from sympy.abc import x, y,theta, v, w, a, omega\n",
    "from sympy import symbols, Matrix\n",
    "sympy.init_printing(use_latex=\"mathjax\", fontsize='16pt')\n",
    "dt = symbols('t') # dt\n",
    "# v = dot(x)\n",
    "# w = dot(y)\n",
    "fxu = Matrix([  [x+v*dt],\n",
    "                [y+w*dt],\n",
    "                [theta+omega*dt],\n",
    "                [v+a*sympy.cos(theta)*dt],\n",
    "                [w+a*sympy.sin(theta)*dt]])\n",
    "\n",
    "F = fxu.jacobian(Matrix([x, y,theta, v, w]))\n",
    "F\n"
   ]
  },
  {
   "cell_type": "code",
   "execution_count": 6,
   "metadata": {},
   "outputs": [
    {
     "data": {
      "text/latex": [
       "$\\displaystyle \\left[\\begin{matrix}0 & 0 & v\\\\0 & 0 & w\\\\0 & t & \\omega\\\\t \\cos{\\left(\\theta \\right)} & 0 & a \\cos{\\left(\\theta \\right)}\\\\t \\sin{\\left(\\theta \\right)} & 0 & a \\sin{\\left(\\theta \\right)}\\end{matrix}\\right]$"
      ],
      "text/plain": [
       "⎡   0      0     v    ⎤\n",
       "⎢                     ⎥\n",
       "⎢   0      0     w    ⎥\n",
       "⎢                     ⎥\n",
       "⎢   0      t     ω    ⎥\n",
       "⎢                     ⎥\n",
       "⎢t⋅cos(θ)  0  a⋅cos(θ)⎥\n",
       "⎢                     ⎥\n",
       "⎣t⋅sin(θ)  0  a⋅sin(θ)⎦"
      ]
     },
     "execution_count": 6,
     "metadata": {},
     "output_type": "execute_result"
    }
   ],
   "source": [
    "V = fxu.jacobian(Matrix([a, omega, dt]))\n",
    "V"
   ]
  },
  {
   "cell_type": "code",
   "execution_count": null,
   "metadata": {},
   "outputs": [],
   "source": [
    "z = Matrix([[x],[y]])\n",
    "z.jacobian(Matrix([x, y,theta, v, w]))"
   ]
  }
 ],
 "metadata": {
  "interpreter": {
   "hash": "bcc0fbde6634558883ab601c6f65083ecfc8c62a0fa89384a3c478d027571d1c"
  },
  "kernelspec": {
   "display_name": "Python 3.8.13 ('vfvo')",
   "language": "python",
   "name": "python3"
  },
  "language_info": {
   "codemirror_mode": {
    "name": "ipython",
    "version": 3
   },
   "file_extension": ".py",
   "mimetype": "text/x-python",
   "name": "python",
   "nbconvert_exporter": "python",
   "pygments_lexer": "ipython3",
   "version": "3.8.13"
  },
  "orig_nbformat": 4
 },
 "nbformat": 4,
 "nbformat_minor": 2
}
